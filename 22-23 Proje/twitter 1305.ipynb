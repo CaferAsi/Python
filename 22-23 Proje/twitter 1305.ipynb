{
 "cells": [
  {
   "cell_type": "code",
   "execution_count": null,
   "id": "26ad315f",
   "metadata": {
    "colab": {
     "base_uri": "https://localhost:8080/",
     "height": 70
    },
    "id": "26ad315f",
    "outputId": "7d86012e-9d6a-404e-dc5a-d945709c3187",
    "scrolled": true
   },
   "outputs": [],
   "source": [
    "\"\"\"\n",
    "new_data = {'Title': input('Title: '),\n",
    "            'Abstract': input('Abstract: '),\n",
    "            'Content': input('Content: '),\n",
    "            'ATU_Numerical': input('ATU Numerical: '),\n",
    "            'ATU_Type': input('ATU Type: ')}\n",
    "\n",
    "new_df = pd.DataFrame(new_data, index=[0])\n",
    "\"\"\""
   ]
  },
  {
   "cell_type": "code",
   "execution_count": 112,
   "id": "5582b98f",
   "metadata": {},
   "outputs": [
    {
     "data": {
      "text/plain": [
       "76"
      ]
     },
     "execution_count": 112,
     "metadata": {},
     "output_type": "execute_result"
    }
   ],
   "source": [
    "erzak_ihtiyaci = ['su', 'gidaya', 'bez', 'yemek','bakliyat','gida', 'yiyecek', 'mamasi', 'icecek','mama', 'konserve', 'biskuvi', 'kraker', 'yemis', 'meyve', 'suyu', 'sut', 'seker', 'tuz', 'yag', 'erzak']\n",
    "giyim_ihtiyaci = [ 'pantolon', 'ayakkabi','kiyafet','kazak', 'yatak','camasiri', 'esofman', 'corabi','bezi','mont', 'polar', 'sweatshirt', 'bere', 'atlet', 'corap', 'termal', 'iclik']\n",
    "isinma_ihtiyaci = [    'battaniye', 'tup', 'soba','yorgan', 'sicak', 'su', 'torba', 'kat', 'kalorifer', 'odun', 'komur', 'elektrikli', 'isitici']\n",
    "barinma_ihtiyaci = [    'cadir', 'mat', 'uyku', 'tulumu', 'kamp', 'yatacak', 'sandalyesi', 'masasi', 'fener']\n",
    "hijyen_listesi = [  'deterjan',   'dezenfektan', 'sabun', 'eldiven', 'maske', 'ped', 'tampon', 'hijyen', 'temizlik', 'malzemeleri', 'saglik', 'pecete']\n",
    "farkli_ihtiyac = [ 'ihtiyaclari','ihtiyaci','ihtiyac' ,'lazim']\n",
    "tumihtiyacLar=list(erzak_ihtiyaci+giyim_ihtiyaci+isinma_ihtiyaci+barinma_ihtiyaci+hijyen_listesi+farkli_ihtiyac)\n"
   ]
  },
  {
   "cell_type": "code",
   "execution_count": null,
   "id": "8a06e49a",
   "metadata": {},
   "outputs": [],
   "source": [
    "\"\"\"stopWords = ['milyon', 'trilyon', 'onlar', 'seksen', 'ama', 'buna', 'bizim', 'neyden', 'yirmi', 'alti', 'iki', \n",
    "             'seni', 'doksan', 'dort', 'bunun', 'ki', 'nereye','hem', 'kez', 'otuz', 'ben','altmis','elli',\n",
    "             'bizi', 'da', 'sekiz', 've', 'cok', 'bu', 'veya', 'ya', 'kirk', 'onlarin', 'ona', 'bana', 'yetmis', \n",
    "             'milyar', 'þunu', 'senden', 'birþeyi', 'dokuz', 'yani', 'kimi', 'þeyler', 'kim', 'neden', 'senin', 'yedi',\n",
    "             'niye', 'uc', 'sey', 'mu', 'tum', 'onlari', 'bunda', 'ise', 'þundan', 'hep', 'buna', 'bin', 'ben', 'ondan',\n",
    "             'kimden', 'bazi', 'belki', 'ne', 'bundan', 'gibi', 'de', 'onlardan', 'sizi', 'sizin', 'daha', 'nicin', 'bunda',\n",
    "             'bunu', 'beni', 'ile', 'bu', 'neyi', 'sizden', 'defa', 'biz', 'icin', 'dahi', 'siz', 'nerde', 'kime', \n",
    "             'birþey','birkez', 'her', 'biri', 'on', 'mu', 'diye', 'acaba', 'sen', 'en', 'hepsi', 'bir', 'bizden','sanki',\n",
    "             'benim','nerede', 'onu', 'benden', 'yuz', 'birkac', 'cunku','nasil','hic','katrilyon','oldu','abi','nere', 'de','0','1','2','3','4','5','6','7','8','9']\n",
    "\"\"\""
   ]
  },
  {
   "cell_type": "code",
   "execution_count": null,
   "id": "722392ee",
   "metadata": {},
   "outputs": [],
   "source": [
    "#stopWords = [\"ama\", \"bana\", \"bazı\", \"belki\", \"ben\", \"beni\", \"benim\", \"bir\", \"biraz\", \"biri\", \"birkaç\", \"birkez\", \"birşey\", \"birşeyi\", \"biz\", \"bize\", \"bizi\", \"bizim\", \"bu\", \"buna\", \"bunda\", \"bundan\", \"bunlar\", \"bunu\", \"bunun\", \"da\", \"daha\", \"de\", \"defa\", \"diye\", \"doksan\", \"dokuz\", \"elli\", \"en\", \"gibi\", \"hep\", \"hepsi\", \"her\", \"için\", \"iki\", \"ile\", \"ise\", \"işte\", \"katrilyon\", \"kez\", \"ki\", \"kim\", \"kimden\", \"kime\", \"kimi\", \"milyar\", \"milyon\", \"mu\", \"mü\", \"nasıl\", \"ne\", \"neden\", \"nerde\", \"nerede\", \"nereye\", \"niçin\", \"niye\", \"ondan\", \"onlar\", \"onlardan\", \"onlari\", \"onların\", \"onu\", \"otuz\", \"sanki\", \"sizi\", \"sizden\", \"sizin\", \"şey\", \"şeyden\", \"şeyi\", \"şuna\", \"şunda\", \"şundan\", \"şunu\", \"trilyon\", \"tüm\", \"ve\", \"veya\", \"ya\", \"yani\", \"yetmiş\", \"yirmi\", \"yedi\", \"yüz\"]\n"
   ]
  },
  {
   "cell_type": "code",
   "execution_count": null,
   "id": "c0d7f729",
   "metadata": {},
   "outputs": [],
   "source": [
    "#icerikler = ['Deprem sonrası hasar tespit çalışmaları devam ediyor', 'Depremzedeler için gıda yardımı yapılacak', 'Yaralıların sayısı 50 oldu']\n",
    "#count_words(icerikler)"
   ]
  },
  {
   "cell_type": "code",
   "execution_count": 1,
   "id": "47cc1260",
   "metadata": {
    "id": "47cc1260"
   },
   "outputs": [],
   "source": [
    "import pandas as pd\n",
    "import numpy as np"
   ]
  },
  {
   "cell_type": "code",
   "execution_count": 2,
   "id": "HXcHGtE4LxrU",
   "metadata": {
    "id": "HXcHGtE4LxrU"
   },
   "outputs": [],
   "source": [
    "df1= pd.read_excel(\"genel (1).xlsx\")"
   ]
  },
  {
   "cell_type": "code",
   "execution_count": 3,
   "id": "bV-jZ4McN9Xy",
   "metadata": {
    "id": "bV-jZ4McN9Xy"
   },
   "outputs": [],
   "source": [
    "dfHashtags = df1[['hashtags/0', 'hashtags/1' ,'hashtags/2', 'hashtags/3']]"
   ]
  },
  {
   "cell_type": "code",
   "execution_count": 4,
   "id": "UsyYsNjhOefw",
   "metadata": {
    "colab": {
     "base_uri": "https://localhost:8080/"
    },
    "id": "UsyYsNjhOefw",
    "outputId": "ae2adbfd-cfff-45bb-fc9d-01db05bd3f98"
   },
   "outputs": [
    {
     "data": {
      "text/plain": [
       "hashtags/0    298\n",
       "hashtags/1    398\n",
       "hashtags/2    399\n",
       "hashtags/3    399\n",
       "dtype: int64"
      ]
     },
     "execution_count": 4,
     "metadata": {},
     "output_type": "execute_result"
    }
   ],
   "source": [
    "dfHashtags.isnull().sum()"
   ]
  },
  {
   "cell_type": "code",
   "execution_count": 5,
   "id": "SbILt7e-JFM3",
   "metadata": {
    "id": "SbILt7e-JFM3"
   },
   "outputs": [],
   "source": [
    "df1= pd.read_excel(\"genel (1).xlsx\")\n",
    "df=df1[['created_at', 'full_text', 'hashtags/0', 'is_retweet', 'url','user/created_at', 'user/name']]\n",
    "df = df.rename(columns={'hashtags/0': 'hastags'})"
   ]
  },
  {
   "cell_type": "code",
   "execution_count": 6,
   "id": "5001c635",
   "metadata": {},
   "outputs": [
    {
     "data": {
      "text/plain": [
       "Index(['created_at', 'full_text', 'hastags', 'is_retweet', 'url',\n",
       "       'user/created_at', 'user/name'],\n",
       "      dtype='object')"
      ]
     },
     "execution_count": 6,
     "metadata": {},
     "output_type": "execute_result"
    }
   ],
   "source": [
    "df.columns"
   ]
  },
  {
   "cell_type": "code",
   "execution_count": 8,
   "id": "r052YKg6O7ey",
   "metadata": {
    "id": "r052YKg6O7ey"
   },
   "outputs": [],
   "source": [
    "df=df[df['full_text'].isnull() == False]"
   ]
  },
  {
   "cell_type": "code",
   "execution_count": null,
   "id": "35fc0668",
   "metadata": {},
   "outputs": [],
   "source": [
    "\"\"\"\n",
    "sozluk = {\"ç\": \"c\",  \"ğ\": \"g\",  \"ı\": \"i\",  \"ö\": \"o\",  \"ş\": \"s\", \"ü\": \"u\"}\n",
    "\n",
    "lll=#kelime listesi \n",
    "l2 = list(map(lambda kelime: ''.join([sozluk.get(i, i) for i in kelime]), lll))\n",
    "\n",
    "print(l2)\n",
    "\"\"\""
   ]
  },
  {
   "cell_type": "code",
   "execution_count": 141,
   "id": "sz5AeHiaLu_f",
   "metadata": {
    "id": "sz5AeHiaLu_f"
   },
   "outputs": [],
   "source": [
    "class tvit:\n",
    "    def __init__(self,tweet):\n",
    "\n",
    "        self.tweet0 = tweet.full_text or \"\"\n",
    "        self.tweet = tweet.full_text or \"\"\n",
    "        self.username = tweet.url.split(\"/\")[-3] or \"\"\n",
    "        self.url = tweet.url or \"\"\n",
    "        self.created_at = tweet.created_at or \"\"\n",
    "        self.hashtags=tweet.hastags or \"\"\n",
    "        self.deprem = False\n",
    "        self.ihtiyac = False\n",
    "        self.ihtiyacListesi=[]\n",
    "        self.retweet=tweet.is_retweet\n",
    "        self.word_counts ={}\n",
    "        self.usernames=[]\n",
    "        self.erzak_ihtiyaci = ['su', 'gidaya', 'bez', 'yemek','yemis','bakliyat','gida', 'yiyecek', 'mamasi', 'icecek','mama', 'konserve', 'biskuvi', 'kraker', 'yemis', 'meyve', 'suyu', 'sut', 'seker', 'tuz', 'yag', 'erzak']\n",
    "        self.giyim_ihtiyaci = [ 'pantolon', 'ayakkabi','kiyafet','kazak', 'yatak','camasiri', 'esofman', 'corabi','bezi','mont', 'polar', 'sweatshirt', 'bere', 'atlet', 'corap', 'termal', 'iclik']\n",
    "        self.isinma_ihtiyaci = [    'battaniye', 'tup', 'soba','yorgan', 'sicak', 'su', 'torba', 'kat', 'kalorifer', 'odun', 'komur', 'elektrikli', 'isitici']\n",
    "        self.barinma_ihtiyaci = [    'cadir', 'mat', 'uyku', 'tulumu', 'kamp', 'yatacak', 'sandalyesi', 'masasi', 'fener']\n",
    "        self.hijyen_listesi = [  'deterjan', 'sabun', 'dezenfektan', 'sabun', 'eldiven', 'maske', 'ped', 'tampon', 'hijyen', 'temizlik', 'malzemeleri', 'saglik', 'pecete']\n",
    "        self.farkli_ihtiyac = [  'yardim', 'yardimi', 'yardimina','ihtiyaclari','ihtiyaci','ihtiyac' ,'lazim','bandaj','urunleri','powerbank', 'pazarcik', 'meyve', 'maske','malzemesi', 'kraker','konserve','kiyafeti', 'kalorifer','ilac', 'ihtiyacimiz', 'hijyenik', 'hasta', 'giyecek', 'engelli','dezenfektan',\n",
    "                             'giyim', 'hastasi', 'bot', 'icecek', 'ihtiyaclarini', 'pecete', 'pedi','biskuvi', 'pijama', 'bere', 'pirinc']\n",
    "        self.tumihtiyacLar=list(self.erzak_ihtiyaci+self.giyim_ihtiyaci+self.isinma_ihtiyaci+self.barinma_ihtiyaci+self.hijyen_listesi+self.farkli_ihtiyac)\n",
    "\n",
    "        self.harfSozluk= { \"ç\": \"c\",\"ğ\": \"g\",\"ı\": \"i\",\"ö\": \"o\",\"ş\": \"s\",\"ü\": \"u\"}\n",
    "        \n",
    "        self.stopWords=['milyon', 'trilyon', 'onlar', 'seksen', 'ama', 'buna', 'bizim', 'neyden', 'yirmi', 'alti', 'iki', \n",
    "                 'seni', 'doksan', 'dort', 'bunun', 'ki', 'nereye','hem', 'kez', 'otuz', 'ben','altmis','elli',\n",
    "                 'bizi', 'da', 'sekiz', 've', 'cok', 'bu', 'veya', 'ya', 'kirk', 'onlarin', 'ona', 'bana', 'yetmis', \n",
    "                 'milyar', 'bunu', 'senden', 'birseyi', 'dokuz', 'yani', 'kimi', 'seyler', 'kim', 'neden', 'senin', 'yedi',\n",
    "                 'niye', 'uc', 'sey', 'mu', 'tum', 'onlari', 'bunda', 'ise', 'þundan', 'hep', 'buna', 'bin', 'ben', 'ondan',\n",
    "                 'kimden', 'bazi', 'belki', 'ne', 'bundan', 'gibi', 'de', 'onlardan', 'sizi', 'sizin', 'daha', 'nicin', 'bunda',\n",
    "                 'bunu', 'beni', 'ile', 'bu', 'neyi', 'sizden', 'defa', 'biz', 'icin', 'dahi', 'siz', 'nerde', 'kime', \n",
    "                 'birsey','birkez', 'her', 'biri', 'on', 'mu', 'diye', 'acaba', 'sen', 'en', 'hepsi', 'bir', 'bizden','sanki',\n",
    "                 'benim','nerede', 'onu', 'benden', 'yuz', 'birkac', 'cunku','nasil','hic','katrilyon','oldu','abi','nere', 'de',\n",
    "                 '0','1','2','3','4','5','6','7','8','9']\n",
    "\n",
    "        self.depremSozcuk=['buyukluk','afad', 'deprem', 'depremin', 'depremler', 'depremlerin', 'derinlik', 'enkaz', 'hasar', 'depremde', 'depremleri', 'depremlerinden', 'depremzede']\n",
    "    def yaz(self):\n",
    "        print(\"twit :\",self.tweet)\n",
    "        print(\"username :\",self.username)\n",
    "        print(\"url :\",self.url)\n",
    "        print(\"created_at :\",self.created_at)\n",
    "        print(\"hashtags :\",self.hashtags)\n",
    "        print(\"deprem :\",self.deprem)\n",
    "        print(\"ihtiyac :\",self.ihtiyac)\n",
    "        print(\"is_retweet : \", self.retweet)\n",
    "        print(\"world_count\",self.word_counts)\n",
    "        print(\"etiketlenen\",self.usernames)\n",
    "        \n",
    "    def stopWords(self):\n",
    "        pass\n",
    "\n",
    "\n",
    "    def count_words(self):\n",
    "\n",
    "        # Sözlük oluşturmak için boş bir sözlük tanımla\n",
    "        word_counts = {}\n",
    "        \n",
    "        # Kelime sayma işlemi\n",
    "        for word in self.tweet.split():\n",
    "            if len(word)>2 and word not in self.stopWords and word.isalpha():\n",
    "                if  word in word_counts:\n",
    "                    word_counts[word] += 1\n",
    "                else:\n",
    "                    word_counts[word] = 1\n",
    "\n",
    "        self.word_counts =word_counts\n",
    "\n",
    "\n",
    "    def fullTextPr(self):\n",
    "        import string\n",
    "        import re\n",
    "        # kucuk harflere çevirir\n",
    "        self.tweet = str(self.tweet).lower()\n",
    "        \n",
    "        self.tweet = self.tweet.replace('\\n', ' ')\n",
    "\n",
    "        #URL'leri metinden kaldır\n",
    "        self.tweet = re.compile(r'http\\S+').sub('', self.tweet)\n",
    "        \n",
    "        self.usernames = re.findall(r'@\\w+', self.tweet)\n",
    "        \n",
    "        self.tweet = re.compile(r'@\\w+').sub('', self.tweet)\n",
    "\n",
    "        #turkçe karakterleri ingilizceye çevirir\n",
    "        self.tweet = self.tweet.translate(str.maketrans(self.harfSozluk))\n",
    "        \n",
    "        #noktalama işaretleri siler\n",
    "        self.tweet = self.tweet.translate(str.maketrans('', '', string.punctuation))\n",
    "        \n",
    "        # sayiları siler\n",
    "        self.tweet = self.tweet.translate(str.maketrans('', '', string.digits))\n",
    "      \n",
    "\n",
    "        \n",
    "        self.count_words()\n",
    "        \n",
    "    def depremMi(self):\n",
    "        for term in self.depremSozcuk:\n",
    "            if term in self.tweet:\n",
    "                self.deprem=True\n",
    "  \n",
    "    def ihtiyac_kontrol(self):\n",
    "        ihtiyacList=[]\n",
    "\n",
    "        arama_sozluk = {\"erzak\":self.erzak_ihtiyaci,\"giyim\":self.giyim_ihtiyaci,\"isinma\":self.isinma_ihtiyaci,\"barinma\":self.barinma_ihtiyaci,\"hijyen\":self.hijyen_listesi,\"farkli_ihtiyac\":self.farkli_ihtiyac}\n",
    "\n",
    "        for k, v in arama_sozluk.items():\n",
    "            for ihtiyac in v:\n",
    "                if ihtiyac in self.tweet:\n",
    "                    ihtiyacList.append(k)\n",
    "                    break\n",
    "        if len(ihtiyacList)>0:\n",
    "            self.ihtiyac=True\n",
    "        self.ihtiyacListesi = ihtiyacList\n",
    "     "
   ]
  },
  {
   "cell_type": "code",
   "execution_count": 142,
   "id": "tKXqNXAgEffc",
   "metadata": {
    "id": "tKXqNXAgEffc"
   },
   "outputs": [],
   "source": [
    "def df2list(df):\n",
    "    nesneler_list = []\n",
    "    for index, row in df.iterrows():\n",
    "        veri = tvit(row)\n",
    "        nesneler_list.append(veri)\n",
    "    return nesneler_list"
   ]
  },
  {
   "cell_type": "code",
   "execution_count": 143,
   "id": "d2570368",
   "metadata": {},
   "outputs": [],
   "source": [
    "def tweet_processing(twitler):\n",
    "    [i.fullTextPr() for i in twitler];\n",
    "    [i.depremMi() for i in twitler];\n",
    "    [i.ihtiyac_kontrol() for i in twitler];\n"
   ]
  },
  {
   "cell_type": "code",
   "execution_count": 144,
   "id": "f156c94b",
   "metadata": {},
   "outputs": [],
   "source": [
    "def bul1(objs,arananTip,arananDeger):\n",
    "    if len(objs)==1:\n",
    "        print(getattr(i,arananTip)==arananDeger)\n",
    "    x=[i for i in objs if getattr(i,arananTip)==arananDeger]\n",
    "    return x"
   ]
  },
  {
   "cell_type": "code",
   "execution_count": 145,
   "id": "25addafe",
   "metadata": {},
   "outputs": [],
   "source": [
    "def ToplamSozluk(minTekrar,isetenenTwitler):\n",
    "    toplam_sozluk = {}\n",
    "    \n",
    "    for tweet in isetenenTwitler:\n",
    "        for key, value in tweet.word_counts.items():\n",
    "            toplam_sozluk[key] = toplam_sozluk.get(key, 0) + value\n",
    "\n",
    "    for i in list(toplam_sozluk.keys()):\n",
    "        if toplam_sozluk[i]<minTekrar:\n",
    "            del toplam_sozluk[i]\n",
    "\n",
    "    print(len(toplam_sozluk))\n",
    "    toplam_sozluk =sorted(toplam_sozluk.items(), key=lambda x: x[1], reverse=True)\n",
    "    return toplam_sozluk\n",
    "\n"
   ]
  },
  {
   "cell_type": "code",
   "execution_count": 146,
   "id": "1b6ca599",
   "metadata": {},
   "outputs": [],
   "source": [
    "def getAnahtarlar(toplam_sozluk):\n",
    "    anahtarlar=[]\n",
    "\n",
    "    for i in  toplam_sozluk:\n",
    "        anahtarlar.append(i[0])\n",
    "    return anahtarlar\n"
   ]
  },
  {
   "cell_type": "code",
   "execution_count": 147,
   "id": "38c68af6",
   "metadata": {},
   "outputs": [],
   "source": [
    "twitler=df2list(df)"
   ]
  },
  {
   "cell_type": "code",
   "execution_count": 148,
   "id": "7a4bf9be",
   "metadata": {},
   "outputs": [],
   "source": [
    "tweet_processing(twitler)"
   ]
  },
  {
   "cell_type": "code",
   "execution_count": 149,
   "id": "9f6aafdb",
   "metadata": {},
   "outputs": [
    {
     "data": {
      "text/plain": [
       "123"
      ]
     },
     "execution_count": 149,
     "metadata": {},
     "output_type": "execute_result"
    }
   ],
   "source": [
    "depremTwitler=bul1(twitler,\"deprem\",True)\n",
    "len(depremTwitler)"
   ]
  },
  {
   "cell_type": "code",
   "execution_count": null,
   "id": "a6c6f35c",
   "metadata": {},
   "outputs": [],
   "source": []
  },
  {
   "cell_type": "code",
   "execution_count": 150,
   "id": "9616977a",
   "metadata": {},
   "outputs": [],
   "source": [
    "deprem_ve_ihtiyacdegil=bul1(bul1(twitler,\"ihtiyac\",False),\"deprem\",False)"
   ]
  },
  {
   "cell_type": "code",
   "execution_count": 151,
   "id": "ee51d815",
   "metadata": {},
   "outputs": [],
   "source": [
    "x=[i for i in deprem_ve_ihtiyacdegil if list(i.word_counts.keys())!=['nan'] and list(i.word_counts.keys())!=[] ]"
   ]
  },
  {
   "cell_type": "code",
   "execution_count": 158,
   "id": "f83c1c2d",
   "metadata": {
    "scrolled": true
   },
   "outputs": [
    {
     "name": "stdout",
     "output_type": "stream",
     "text": [
      "120\n"
     ]
    }
   ],
   "source": [
    "isetenenTwitler=bul1(twitler,\"deprem\",True)\n",
    "toplam_sozluk = ToplamSozluk(2,isetenenTwitler)"
   ]
  },
  {
   "cell_type": "code",
   "execution_count": 159,
   "id": "f13ad470",
   "metadata": {},
   "outputs": [],
   "source": [
    "kesisim_deprem = set(getAnahtarlar(toplam_sozluk)) & set(twitler[0].depremSozcuk)"
   ]
  },
  {
   "cell_type": "code",
   "execution_count": 173,
   "id": "2607231b",
   "metadata": {},
   "outputs": [
    {
     "name": "stdout",
     "output_type": "stream",
     "text": [
      "120\n"
     ]
    }
   ],
   "source": [
    "isetenenTwitler=bul1(twitler,\"deprem\",True)\n",
    "toplam_sozluk = ToplamSozluk(2,isetenenTwitler)\n",
    "kesisim_deprem = set(getAnahtarlar(toplam_sozluk)) & set(twitler[0].depremSozcuk)\n",
    "fark_deprem =  set(getAnahtarlar(toplam_sozluk)) - set(twitler[0].depremSozcuk) \n"
   ]
  },
  {
   "cell_type": "code",
   "execution_count": 174,
   "id": "79f4f967",
   "metadata": {},
   "outputs": [
    {
     "data": {
      "text/plain": [
       "113"
      ]
     },
     "execution_count": 174,
     "metadata": {},
     "output_type": "execute_result"
    }
   ],
   "source": [
    "len(fark_deprem)"
   ]
  },
  {
   "cell_type": "code",
   "execution_count": 175,
   "id": "cf33b258",
   "metadata": {},
   "outputs": [
    {
     "data": {
      "text/plain": [
       "{'adana',\n",
       " 'adiyaman',\n",
       " 'afad',\n",
       " 'aldik',\n",
       " 'basladi',\n",
       " 'basladik',\n",
       " 'bekleyen',\n",
       " 'bina',\n",
       " 'bolgede',\n",
       " 'bolgedeki',\n",
       " 'bolgesinde',\n",
       " 'bolgeye',\n",
       " 'boylam',\n",
       " 'burs',\n",
       " 'buyuk',\n",
       " 'buyuklugundeki',\n",
       " 'calismalar',\n",
       " 'calismalara',\n",
       " 'can',\n",
       " 'cocuklar',\n",
       " 'dairesi',\n",
       " 'denizi',\n",
       " 'destek',\n",
       " 'detay',\n",
       " 'devam',\n",
       " 'durum',\n",
       " 'durumda',\n",
       " 'edecegiz',\n",
       " 'ediyor',\n",
       " 'egitim',\n",
       " 'enlem',\n",
       " 'etkilenen',\n",
       " 'evleri',\n",
       " 'fay',\n",
       " 'fazla',\n",
       " 'firmasinin',\n",
       " 'fugro',\n",
       " 'gaziantep',\n",
       " 'geldi',\n",
       " 'geldim',\n",
       " 'gelen',\n",
       " 'gonullu',\n",
       " 'gore',\n",
       " 'gun',\n",
       " 'guzel',\n",
       " 'hasarli',\n",
       " 'hatay',\n",
       " 'hatti',\n",
       " 'hazirlik',\n",
       " 'icinde',\n",
       " 'ihtiyaclarini',\n",
       " 'ilgili',\n",
       " 'ister',\n",
       " 'istihdam',\n",
       " 'itibariyla',\n",
       " 'kadar',\n",
       " 'kahramanmaras',\n",
       " 'kahtali',\n",
       " 'kapsaminda',\n",
       " 'karari',\n",
       " 'katilan',\n",
       " 'kaybeden',\n",
       " 'konteyner',\n",
       " 'mahallesi',\n",
       " 'malatya',\n",
       " 'manisa',\n",
       " 'mart',\n",
       " 'meydana',\n",
       " 'mici',\n",
       " 'olan',\n",
       " 'olarak',\n",
       " 'olmak',\n",
       " 'olsun',\n",
       " 'once',\n",
       " 'parsel',\n",
       " 'saat',\n",
       " 'saha',\n",
       " 'sahipleri',\n",
       " 'sarki',\n",
       " 'sayisi',\n",
       " 'son',\n",
       " 'sonra',\n",
       " 'sonrasinda',\n",
       " 'subat',\n",
       " 'takip',\n",
       " 'tarafindan',\n",
       " 'tarih',\n",
       " 'tek',\n",
       " 'toplanti',\n",
       " 'uzere',\n",
       " 'var',\n",
       " 'vicdani',\n",
       " 'yaptik',\n",
       " 'yardim',\n",
       " 'yasinda',\n",
       " 'yayladagi',\n",
       " 'yemek',\n",
       " 'yerakcadag',\n",
       " 'yerakdeniz',\n",
       " 'yerbattalgazi',\n",
       " 'yerdogansehir',\n",
       " 'yerege',\n",
       " 'yerekinozu',\n",
       " 'yerelbistan',\n",
       " 'yergoksun',\n",
       " 'yernurhak',\n",
       " 'yeronikisubat',\n",
       " 'yersaimbeyli',\n",
       " 'yersincik',\n",
       " 'yerturkoglu',\n",
       " 'yeryesilyurt',\n",
       " 'yil',\n",
       " 'zamanda'}"
      ]
     },
     "execution_count": 175,
     "metadata": {},
     "output_type": "execute_result"
    }
   ],
   "source": [
    "fark_deprem"
   ]
  },
  {
   "cell_type": "code",
   "execution_count": null,
   "id": "da3ab281",
   "metadata": {},
   "outputs": [],
   "source": []
  }
 ],
 "metadata": {
  "colab": {
   "provenance": []
  },
  "kernelspec": {
   "display_name": "Python 3 (ipykernel)",
   "language": "python",
   "name": "python3"
  },
  "language_info": {
   "codemirror_mode": {
    "name": "ipython",
    "version": 3
   },
   "file_extension": ".py",
   "mimetype": "text/x-python",
   "name": "python",
   "nbconvert_exporter": "python",
   "pygments_lexer": "ipython3",
   "version": "3.9.16"
  }
 },
 "nbformat": 4,
 "nbformat_minor": 5
}
